{
 "cells": [
  {
   "cell_type": "markdown",
   "id": "4c5e1ee7",
   "metadata": {},
   "source": [
    "# Mean vs Meadian\n",
    "27,000`$` with standart deviation of 15,000`$` with 10,000 data points.\n",
    "Mean(average) should be around 27,000. "
   ]
  },
  {
   "cell_type": "code",
   "execution_count": 55,
   "id": "ece175b9",
   "metadata": {},
   "outputs": [
    {
     "data": {
      "text/plain": [
       "27241.40476160562"
      ]
     },
     "execution_count": 55,
     "metadata": {},
     "output_type": "execute_result"
    }
   ],
   "source": [
    "import numpy as np\n",
    "\n",
    "incomes= np.random.normal(27000,15000,10000)\n",
    "np.mean(incomes)"
   ]
  },
  {
   "cell_type": "code",
   "execution_count": 56,
   "id": "249322ad",
   "metadata": {},
   "outputs": [
    {
     "data": {
      "image/png": "[encoded data removed]",
      "text/plain": [
       "<Figure size 640x480 with 1 Axes>"
      ]
     },
     "metadata": {},
     "output_type": "display_data"
    }
   ],
   "source": [
    "%matplotlib inline\n",
    "import matplotlib.pyplot as plt\n",
    "plt.hist(incomes,50)\n",
    "plt.show()"
   ]
  },
  {
   "cell_type": "markdown",
   "id": "61a21fd5",
   "metadata": {},
   "source": [
    "We have even distirbution so it too should be around 27,000"
   ]
  },
  {
   "cell_type": "code",
   "execution_count": 57,
   "id": "712ca596",
   "metadata": {},
   "outputs": [
    {
     "data": {
      "text/plain": [
       "27324.46562707088"
      ]
     },
     "execution_count": 57,
     "metadata": {},
     "output_type": "execute_result"
    }
   ],
   "source": [
    "np.median(incomes)"
   ]
  },
  {
   "cell_type": "markdown",
   "id": "b1aa5fc9",
   "metadata": {},
   "source": [
    "Now we'll add very rich person. Like someone who has 1000000000 dolar."
   ]
  },
  {
   "cell_type": "code",
   "execution_count": 58,
   "id": "4f4be01a",
   "metadata": {},
   "outputs": [],
   "source": [
    "incomes= np.append(incomes,[1000000000])"
   ]
  },
  {
   "cell_type": "markdown",
   "id": "f206ee08",
   "metadata": {},
   "source": [
    "Median won't change much but mean does."
   ]
  },
  {
   "cell_type": "code",
   "execution_count": 59,
   "id": "8f93ceeb",
   "metadata": {},
   "outputs": [
    {
     "data": {
      "text/plain": [
       "27326.14308405385"
      ]
     },
     "execution_count": 59,
     "metadata": {},
     "output_type": "execute_result"
    }
   ],
   "source": [
    "np.median(incomes)"
   ]
  },
  {
   "cell_type": "code",
   "execution_count": 60,
   "id": "a34fb50b",
   "metadata": {},
   "outputs": [
    {
     "data": {
      "text/plain": [
       "127228.68189341627"
      ]
     },
     "execution_count": 60,
     "metadata": {},
     "output_type": "execute_result"
    }
   ],
   "source": [
    "np.mean(incomes)"
   ]
  },
  {
   "cell_type": "markdown",
   "id": "ec6bfb11",
   "metadata": {},
   "source": [
    "# MODE\n",
    "Fake age data for 500 people:"
   ]
  },
  {
   "cell_type": "code",
   "execution_count": 61,
   "id": "e67037ae",
   "metadata": {},
   "outputs": [
    {
     "data": {
      "text/plain": [
       "array([43, 36, 56, 84, 66, 62, 44, 31, 62, 62, 81, 55, 59, 39, 19, 73, 77,\n",
       "       69, 29, 60, 18, 63, 88, 33, 59, 31, 25, 20, 37, 67, 57, 26, 53, 24,\n",
       "       23, 68, 39, 70, 89, 73, 28, 41, 48, 57, 58, 42, 43, 55, 80, 51, 20,\n",
       "       77, 28, 62, 79, 23, 45, 85, 20, 86, 41, 77, 89, 86, 26, 53, 25, 37,\n",
       "       45, 63, 79, 42, 58, 46, 34, 53, 59, 81, 40, 73, 50, 81, 20, 48, 40,\n",
       "       66, 65, 85, 49, 82, 74, 37, 33, 72, 85, 52, 46, 26, 82, 18, 38, 20,\n",
       "       72, 41, 88, 56, 65, 25, 51, 87, 31, 59, 46, 57, 51, 35, 29, 47, 73,\n",
       "       83, 67, 61, 49, 57, 28, 33, 88, 25, 55, 65, 59, 78, 49, 71, 77, 81,\n",
       "       64, 72, 59, 64, 52, 59, 80, 30, 42, 21, 86, 41, 47, 65, 57, 18, 70,\n",
       "       74, 74, 20, 61, 21, 26, 36, 34, 39, 68, 47, 31, 60, 63, 21, 21, 69,\n",
       "       66, 21, 34, 65, 66, 25, 86, 54, 25, 42, 62, 56, 56, 60, 43, 56, 41,\n",
       "       59, 52, 84, 25, 86, 40, 27, 76, 70, 27, 72, 52, 67, 21, 44, 62, 28,\n",
       "       78, 21, 29, 49, 82, 49, 34, 48, 19, 71, 78, 74, 56, 38, 52, 27, 27,\n",
       "       53, 65, 32, 42, 46, 78, 70, 47, 88, 56, 76, 37, 74, 39, 30, 18, 68,\n",
       "       59, 60, 45, 85, 80, 88, 53, 53, 55, 32, 43, 59, 70, 35, 32, 86, 52,\n",
       "       20, 72, 79, 26, 35, 30, 57, 51, 70, 46, 23, 26, 88, 55, 58, 52, 82,\n",
       "       63, 35, 26, 31, 89, 81, 56, 24, 45, 18, 77, 64, 23, 62, 35, 34, 85,\n",
       "       27, 59, 21, 40, 56, 48, 73, 60, 51, 65, 43, 77, 29, 86, 57, 20, 41,\n",
       "       82, 23, 61, 62, 39, 42, 84, 38, 42, 43, 45, 41, 78, 50, 46, 61, 54,\n",
       "       76, 31, 48, 86, 72, 63, 67, 68, 44, 70, 52, 32, 21, 30, 75, 63, 82,\n",
       "       80, 67, 29, 88, 24, 73, 49, 48, 88, 63, 20, 61, 66, 72, 87, 19, 43,\n",
       "       42, 64, 19, 88, 50, 53, 42, 83, 38, 18, 28, 38, 22, 27, 31, 82, 75,\n",
       "       49, 81, 76, 26, 40, 42, 72, 75, 65, 70, 64, 50, 27, 67, 50, 72, 85,\n",
       "       67, 38, 86, 67, 55, 82, 86, 22, 71, 72, 81, 62, 52, 58, 46, 62, 70,\n",
       "       78, 76, 31, 45, 24, 70, 62, 23, 21, 54, 78, 67, 88, 81, 79, 22, 56,\n",
       "       59, 70, 50, 66, 53, 34, 30, 26, 31, 71, 58, 28, 80, 60, 73, 62, 67,\n",
       "       18, 67, 18, 35, 22, 18, 22, 49, 24, 46, 58, 47, 81, 88, 57, 21, 48,\n",
       "       75, 67, 24, 85, 80, 53, 25, 54, 23, 60, 33, 88, 39, 35, 25, 81, 65,\n",
       "       33, 67, 48, 58, 77, 51, 61, 83, 72, 68, 53, 55, 27, 36, 86, 26, 47,\n",
       "       54, 24, 79, 27, 69, 59, 79])"
      ]
     },
     "execution_count": 61,
     "metadata": {},
     "output_type": "execute_result"
    }
   ],
   "source": [
    "ages = np.random.randint(18,high=90, size=500)\n",
    "ages"
   ]
  },
  {
   "cell_type": "code",
   "execution_count": 62,
   "id": "6c863321",
   "metadata": {},
   "outputs": [
    {
     "data": {
      "text/plain": [
       "ModeResult(mode=array([59]), count=array([13]))"
      ]
     },
     "execution_count": 62,
     "metadata": {},
     "output_type": "execute_result"
    }
   ],
   "source": [
    "from scipy import stats\n",
    "stats.mode(ages,keepdims=True)"
   ]
  }
 ],
 "metadata": {
  "kernelspec": {
   "display_name": "Python 3.10.8 ('.venv': venv)",
   "language": "python",
   "name": "python3"
  },
  "language_info": {
   "codemirror_mode": {
    "name": "ipython",
    "version": 3
   },
   "file_extension": ".py",
   "mimetype": "text/x-python",
   "name": "python",
   "nbconvert_exporter": "python",
   "pygments_lexer": "ipython3",
   "version": "3.10.8"
  },
  "vscode": {
   "interpreter": {
    "hash": "7a3009fb6a9098da653270e2edaa0cdbf47dc8a471d8b83d20b02052151a09de"
   }
  }
 },
 "nbformat": 4,
 "nbformat_minor": 5
}
